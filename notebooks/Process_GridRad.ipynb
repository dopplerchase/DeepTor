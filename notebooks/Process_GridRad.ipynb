{
 "cells": [
  {
   "cell_type": "markdown",
   "id": "numerous-breast",
   "metadata": {},
   "source": [
    "# Process GridRad Data for Deep Learning \n",
    "\n",
    "Author: Randy Chase \n",
    "\n",
    "Here I will show you how to process 1 gridrad file. \n",
    "\n",
    "Steps to preparing data: \n",
    "1) Remove ground clutter/non-meteorological echoes. \n",
    "2) Classify echoes as Convective or Stratiform. \n",
    "3) Identify \"Storms\"\n",
    "4) Track Stroms\n",
    "5) Label Storms (did the storm produce a tornado). \n"
   ]
  },
  {
   "cell_type": "code",
   "execution_count": null,
   "id": "digital-concentration",
   "metadata": {},
   "outputs": [],
   "source": []
  }
 ],
 "metadata": {
  "kernelspec": {
   "display_name": "Python 3",
   "language": "python",
   "name": "python3"
  },
  "language_info": {
   "codemirror_mode": {
    "name": "ipython",
    "version": 3
   },
   "file_extension": ".py",
   "mimetype": "text/x-python",
   "name": "python",
   "nbconvert_exporter": "python",
   "pygments_lexer": "ipython3",
   "version": "3.8.5"
  }
 },
 "nbformat": 4,
 "nbformat_minor": 5
}
